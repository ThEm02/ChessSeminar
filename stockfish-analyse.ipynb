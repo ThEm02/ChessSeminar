{
 "cells": [
  {
   "cell_type": "code",
   "execution_count": 2,
   "id": "ea0bdf9b",
   "metadata": {},
   "outputs": [
    {
     "name": "stdout",
     "output_type": "stream",
     "text": [
      "Get:1 http://archive.ubuntu.com/ubuntu noble InRelease [256 kB]\n",
      "Get:2 http://security.ubuntu.com/ubuntu noble-security InRelease [126 kB]      \n",
      "Get:3 http://archive.ubuntu.com/ubuntu noble-updates InRelease [126 kB]        \n",
      "Get:4 http://archive.ubuntu.com/ubuntu noble-backports InRelease [126 kB]      \n",
      "Get:5 https://dl.yarnpkg.com/debian stable InRelease                           \n",
      "Get:6 https://repo.anaconda.com/pkgs/misc/debrepo/conda stable InRelease [3961 B]\n",
      "Get:7 https://packages.microsoft.com/repos/microsoft-ubuntu-noble-prod noble InRelease [3600 B]\n",
      "Get:8 http://security.ubuntu.com/ubuntu noble-security/multiverse amd64 Packages [22.1 kB]\n",
      "Get:9 http://security.ubuntu.com/ubuntu noble-security/main amd64 Packages [1094 kB]\n",
      "Get:10 http://security.ubuntu.com/ubuntu noble-security/universe amd64 Packages [1100 kB]\n",
      "Get:11 http://security.ubuntu.com/ubuntu noble-security/restricted amd64 Packages [1442 kB]\n",
      "Get:12 http://archive.ubuntu.com/ubuntu noble/restricted amd64 Packages [117 kB]\n",
      "Get:13 http://archive.ubuntu.com/ubuntu noble/main amd64 Packages [1808 kB]\n",
      "Get:14 http://archive.ubuntu.com/ubuntu noble/multiverse amd64 Packages [331 kB]\n",
      "Get:15 http://archive.ubuntu.com/ubuntu noble/universe amd64 Packages [19.3 MB]\n",
      "Get:16 http://archive.ubuntu.com/ubuntu noble-updates/universe amd64 Packages [1403 kB]\n",
      "Get:17 http://archive.ubuntu.com/ubuntu noble-updates/main amd64 Packages [1425 kB]\n",
      "Get:18 http://archive.ubuntu.com/ubuntu noble-updates/multiverse amd64 Packages [26.7 kB]\n",
      "Get:19 http://archive.ubuntu.com/ubuntu noble-updates/restricted amd64 Packages [1509 kB]\n",
      "Get:20 http://archive.ubuntu.com/ubuntu noble-backports/main amd64 Packages [48.0 kB]\n",
      "Get:21 http://archive.ubuntu.com/ubuntu noble-backports/universe amd64 Packages [31.8 kB]\n",
      "Get:22 https://dl.yarnpkg.com/debian stable/main all Packages [11.8 kB]        \n",
      "Get:23 https://dl.yarnpkg.com/debian stable/main amd64 Packages [11.8 kB]      \n",
      "Get:24 https://repo.anaconda.com/pkgs/misc/debrepo/conda stable/main amd64 Packages [4557 B]\n",
      "Get:25 https://packages.microsoft.com/repos/microsoft-ubuntu-noble-prod noble/main all Packages [576 B]\n",
      "Get:26 https://packages.microsoft.com/repos/microsoft-ubuntu-noble-prod noble/main amd64 Packages [34.6 kB]\n",
      "Fetched 30.4 MB in 14s (2121 kB/s)                                             \n",
      "Reading package lists... Done\n",
      "Reading package lists... Done\n",
      "Building dependency tree... Done\n",
      "Reading state information... Done\n",
      "Suggested packages:\n",
      "  polyglot xboard | scid\n",
      "The following NEW packages will be installed:\n",
      "  stockfish\n",
      "0 upgraded, 1 newly installed, 0 to remove and 18 not upgraded.\n",
      "Need to get 33.5 MB of archives.\n",
      "After this operation, 40.4 MB of additional disk space will be used.\n",
      "Get:1 http://archive.ubuntu.com/ubuntu noble/universe amd64 stockfish amd64 16-1build1 [33.5 MB]\n",
      "Fetched 33.5 MB in 2s (22.1 MB/s)    \n",
      "Selecting previously unselected package stockfish.\n",
      "(Reading database ... 58629 files and directories currently installed.)\n",
      "Preparing to unpack .../stockfish_16-1build1_amd64.deb ...\n",
      "Unpacking stockfish (16-1build1) ...\n",
      "Setting up stockfish (16-1build1) ...\n",
      "Processing triggers for man-db (2.12.0-4build2) ...\n"
     ]
    }
   ],
   "source": [
    "!sudo apt-get update\n",
    "!sudo apt-get install stockfish"
   ]
  },
  {
   "cell_type": "code",
   "execution_count": 3,
   "id": "c9595898",
   "metadata": {},
   "outputs": [
    {
     "name": "stdout",
     "output_type": "stream",
     "text": [
      "Requirement already satisfied: pip in /usr/local/python/3.12.1/lib/python3.12/site-packages (25.1.1)\n",
      "Collecting chess\n",
      "  Downloading chess-1.11.2.tar.gz (6.1 MB)\n",
      "\u001b[2K     \u001b[90m━━━━━━━━━━━━━━━━━━━━━━━━━━━━━━━━━━━━━━━━\u001b[0m \u001b[32m6.1/6.1 MB\u001b[0m \u001b[31m56.1 MB/s\u001b[0m eta \u001b[36m0:00:00\u001b[0m\n",
      "\u001b[?25h  Installing build dependencies ... \u001b[?25ldone\n",
      "\u001b[?25h  Getting requirements to build wheel ... \u001b[?25ldone\n",
      "\u001b[?25h  Preparing metadata (pyproject.toml) ... \u001b[?25ldone\n",
      "\u001b[?25hCollecting zstandard\n",
      "  Downloading zstandard-0.23.0-cp312-cp312-manylinux_2_17_x86_64.manylinux2014_x86_64.whl.metadata (3.0 kB)\n",
      "Downloading zstandard-0.23.0-cp312-cp312-manylinux_2_17_x86_64.manylinux2014_x86_64.whl (5.4 MB)\n",
      "\u001b[2K   \u001b[90m━━━━━━━━━━━━━━━━━━━━━━━━━━━━━━━━━━━━━━━━\u001b[0m \u001b[32m5.4/5.4 MB\u001b[0m \u001b[31m73.7 MB/s\u001b[0m eta \u001b[36m0:00:00\u001b[0m\n",
      "\u001b[?25hBuilding wheels for collected packages: chess\n",
      "  Building wheel for chess (pyproject.toml) ... \u001b[?25ldone\n",
      "\u001b[?25h  Created wheel for chess: filename=chess-1.11.2-py3-none-any.whl size=147878 sha256=a8e003f51fe19a82fc4e90751fff950d55a77c3ec93a52fe174bbc6020e989a3\n",
      "  Stored in directory: /home/codespace/.cache/pip/wheels/83/1f/4e/8f4300f7dd554eb8de70ddfed96e94d3d030ace10c5b53d447\n",
      "Successfully built chess\n",
      "Installing collected packages: zstandard, chess\n",
      "\u001b[2K   \u001b[90m━━━━━━━━━━━━━━━━━━━━━━━━━━━━━━━━━━━━━━━━\u001b[0m \u001b[32m2/2\u001b[0m [chess]32m1/2\u001b[0m [chess]\n",
      "\u001b[1A\u001b[2KSuccessfully installed chess-1.11.2 zstandard-0.23.0\n"
     ]
    }
   ],
   "source": [
    "!pip install --upgrade pip\n",
    "!pip install chess zstandard"
   ]
  },
  {
   "cell_type": "markdown",
   "id": "559b17dc",
   "metadata": {},
   "source": [
    "Edit pgn file to remove unnecessary details"
   ]
  },
  {
   "cell_type": "code",
   "execution_count": null,
   "id": "70314f92",
   "metadata": {},
   "outputs": [],
   "source": [
    "import re\n"
   ]
  },
  {
   "cell_type": "code",
   "execution_count": null,
   "id": "3cdc2acf",
   "metadata": {},
   "outputs": [],
   "source": [
    "\n",
    "def reinstate_move_numbers(moves):\n",
    "    tokens = moves.strip().split()\n",
    "    result = []\n",
    "    for i in range(0, len(tokens), 2):\n",
    "        move_number = i // 2 + 1\n",
    "        if i + 1 < len(tokens):\n",
    "            result.append(f\"{move_number}. {tokens[i]} {tokens[i+1]}\")\n",
    "        else:\n",
    "            result.append(f\"{move_number}. {tokens[i]}\")\n",
    "    return \" \".join(result)\n",
    "\n",
    "def clean_and_reformat_pgn(pgn_text):\n",
    "    games = re.split(r'\\n\\s*\\n', pgn_text.strip())\n",
    "\n",
    "    cleaned_games = []\n",
    "\n",
    "    for game in games:\n",
    "        header_lines = []\n",
    "        move_lines = []\n",
    "\n",
    "        for line in game.strip().splitlines():\n",
    "            if line.startswith('['):\n",
    "                header_lines.append(line)\n",
    "            else:\n",
    "                move_lines.append(line)\n",
    "\n",
    "        header = \"\\n\".join(header_lines)\n",
    "        moves_raw = \" \".join(move_lines)\n",
    "\n",
    "        # Remove unnecessary symbols (information)\n",
    "        moves = re.sub(r\"\\{[^}]*\\}\", \"\", moves_raw)\n",
    "        \n",
    "        moves = re.sub(r\"\\d+\\.\\.\\.\", \"\", moves)\n",
    "        # Remove all numbers at moves\n",
    "        moves = re.sub(r\"\\d+\\.\", \"\", moves)\n",
    "        # Reduziere Leerzeichen\n",
    "        moves = re.sub(r\"\\s+\", \" \", moves).strip()\n",
    "        # Reformat\n",
    "        moves_numbered = reinstate_move_numbers(moves)\n",
    "\n",
    "        cleaned_game = f\"{header}\\n\\n{moves_numbered}\"\n",
    "        cleaned_games.append(cleaned_game)\n",
    "\n",
    "    return \"\\n\\n\".join(cleaned_games)\n",
    "\n",
    "# Load pgn\n",
    "with open(\"/workspaces/Chess_Stockfish/lichess_sample_10000 (1).pgn\", \"r\", encoding=\"utf-8\") as file:\n",
    "    raw_pgn = file.read()\n",
    "\n",
    "# Change pgn\n",
    "cleaned_pgn = clean_and_reformat_pgn(raw_pgn)\n",
    "\n",
    "# Write in new pgn\n",
    "with open(\"/workspaces/Chess_Stockfish/cleaned.pgn\", \"w\", encoding=\"utf-8\") as out_file:\n",
    "    out_file.write(cleaned_pgn)\n",
    "\n"
   ]
  },
  {
   "cell_type": "markdown",
   "id": "aab45463",
   "metadata": {},
   "source": [
    "Reduce empty lines in pgn"
   ]
  },
  {
   "cell_type": "code",
   "execution_count": null,
   "id": "4aefb4ce",
   "metadata": {},
   "outputs": [],
   "source": [
    "def reduce_blank_lines_in_pgn(input_path, output_path):\n",
    "    with open(input_path, \"r\", encoding=\"utf-8\") as infile:\n",
    "        lines = infile.readlines()\n",
    "\n",
    "    cleaned_lines = []\n",
    "    current_game = []\n",
    "    blank_line_count = 0\n",
    "\n",
    "    def flush_game(game_lines):\n",
    "        \"\"\"Schreibe ein einzelnes Spiel mit genau einer Leerzeile nach dem Header.\"\"\"\n",
    "        cleaned = []\n",
    "        header_ended = False\n",
    "        blank_line_count = 0\n",
    "        for line in game_lines:\n",
    "            stripped = line.strip()\n",
    "            if stripped.startswith(\"[\"):  \n",
    "                cleaned.append(line)\n",
    "                header_ended = False\n",
    "                blank_line_count = 0\n",
    "            elif stripped == \"\":\n",
    "                if not header_ended:\n",
    "                    if blank_line_count == 0:\n",
    "                        cleaned.append(\"\\n\")\n",
    "                    blank_line_count += 1\n",
    "                    header_ended = True\n",
    "            else:\n",
    "                cleaned.append(line)\n",
    "                blank_line_count = 0\n",
    "        cleaned.append(\"\\n\")  # Game end: one empty line\n",
    "        return cleaned\n",
    "\n",
    "    for line in lines:\n",
    "        if line.strip() == \"\" and not current_game:\n",
    "            # Emptly line game beginning -> continiue\n",
    "            continue\n",
    "        current_game.append(line)\n",
    "        if line.strip().startswith(\"[Event\") and len(current_game) > 1:\n",
    "            # New game starts, evaluate last game\n",
    "            cleaned_lines.extend(flush_game(current_game[:-1]))\n",
    "            current_game = [line]\n",
    "\n",
    "    if current_game:\n",
    "        cleaned_lines.extend(flush_game(current_game))\n",
    "\n",
    "    with open(output_path, \"w\", encoding=\"utf-8\") as outfile:\n",
    "        outfile.writelines(cleaned_lines)\n",
    "reduce_blank_lines_in_pgn(\"/workspaces/Chess_Stockfish/cleaned.pgn\", \"cleaned_one_line.pgn\")"
   ]
  },
  {
   "cell_type": "markdown",
   "id": "8b19b433",
   "metadata": {},
   "source": [
    "Funktion to analyse every game "
   ]
  },
  {
   "cell_type": "code",
   "execution_count": 3,
   "id": "08d3f760",
   "metadata": {},
   "outputs": [],
   "source": [
    "import chess\n",
    "import chess.pgn\n",
    "\n",
    "#Elo scales, 1978 FIDE \n",
    "def get_elo_bucket(elo):\n",
    "    if elo < 1000:\n",
    "        return \"beginner\" #Novices \n",
    "    elif elo < 1400:\n",
    "        return \"intermediate\" #Class E and D\n",
    "    elif elo < 1800:\n",
    "        return \"club_player\" #Class C and B\n",
    "    elif elo < 2200:\n",
    "        return \"advanced\" #Class A and Experts\n",
    "    else:\n",
    "        return \"expert\" #Masters\n",
    "# Game result   \n",
    "def result_to_label(result, player):\n",
    "    if result == \"1-0\":\n",
    "        return \"win\" if player == \"white\" else \"loss\"\n",
    "    elif result == \"0-1\":\n",
    "        return \"win\" if player == \"black\" else \"loss\"\n",
    "    elif result == \"1/2-1/2\":\n",
    "        return \"draw\"\n",
    "    else:\n",
    "        return \"unknown\"    \n",
    "\n",
    "def analyze_game(game, engine, game_nr, depth=19):\n",
    "    board = game.board()\n",
    "    data = []\n",
    "\n",
    "    white_elo = int(game.headers.get(\"WhiteElo\", 0))\n",
    "    black_elo = int(game.headers.get(\"BlackElo\", 0))\n",
    "    result = game.headers.get(\"Result\", \"*\")  # \"1-0\", \"0-1\", \"1/2-1/2\"\n",
    "\n",
    "    for ply, move in enumerate(game.mainline_moves()):\n",
    "        san_move = board.san(move)\n",
    "\n",
    "        # Determine player and elo bucket\n",
    "        if ply % 2 == 0:\n",
    "            player = \"white\"\n",
    "            elo_level = get_elo_bucket(white_elo)\n",
    "        else:\n",
    "            player = \"black\"\n",
    "            elo_level = get_elo_bucket(black_elo)\n",
    "\n",
    "        # Evaluation before move\n",
    "        info_before = engine.analyse(board, chess.engine.Limit(depth=depth))\n",
    "        score_before = (\n",
    "            info_before[\"score\"].white().score(mate_score=10000)\n",
    "            if not info_before[\"score\"].is_mate()\n",
    "            else 10000\n",
    "        )\n",
    "\n",
    "        # Best move evaluation\n",
    "        best_move = info_before[\"pv\"][0] if \"pv\" in info_before else None\n",
    "        if best_move:\n",
    "            best_board = board.copy()\n",
    "            best_board.push(best_move)\n",
    "            info_best = engine.analyse(best_board, chess.engine.Limit(depth=depth))\n",
    "            score_best = (\n",
    "                info_best[\"score\"].white().score(mate_score=10000)\n",
    "                if not info_best[\"score\"].is_mate()\n",
    "                else 10000\n",
    "            )\n",
    "        else:\n",
    "            score_best = None\n",
    "\n",
    "        # Apply actual move and evaluate\n",
    "        board.push(move)\n",
    "        info_after = engine.analyse(board, chess.engine.Limit(depth=depth))\n",
    "        score_after = (\n",
    "            info_after[\"score\"].white().score(mate_score=10000)\n",
    "            if not info_after[\"score\"].is_mate()\n",
    "            else 10000\n",
    "        )\n",
    "\n",
    "        # Evaluate move quality\n",
    "        if best_move == move:\n",
    "            move_quality = 0\n",
    "        else:\n",
    "            move_quality = (\n",
    "                abs(score_after - score_best) if score_best is not None else None\n",
    "            )\n",
    "\n",
    "        # Determine game phase\n",
    "        total_plies = len(list(game.mainline_moves()))\n",
    "        if ply < total_plies * 0.3:\n",
    "            phase = \"opening\"\n",
    "        elif ply < total_plies * 0.7:\n",
    "            phase = \"middlegame\"\n",
    "        else:\n",
    "            phase = \"endgame\"\n",
    "\n",
    "        # Record data\n",
    "        data.append(\n",
    "            {\n",
    "                \"game_nr\": game_nr,\n",
    "                \"ply\": ply,\n",
    "                \"move\": san_move,\n",
    "                \"move_quality\": move_quality,\n",
    "                \"player\": player,\n",
    "                \"elo_level\": elo_level,\n",
    "                \"phase\": phase,\n",
    "                \"result\": result_to_label(result, player),\n",
    "            }\n",
    "        )\n",
    "\n",
    "    return data\n",
    "\n"
   ]
  },
  {
   "cell_type": "markdown",
   "id": "08e2365c",
   "metadata": {},
   "source": [
    "Evaluation of 1000 games copied in json file "
   ]
  },
  {
   "cell_type": "code",
   "execution_count": 5,
   "id": "94977d93",
   "metadata": {},
   "outputs": [
    {
     "name": "stdout",
     "output_type": "stream",
     "text": [
      "Analyse game 1002...\n",
      "Analyzation stoped. Game was not saved.\n"
     ]
    }
   ],
   "source": [
    "\n",
    "\n",
    "import json\n",
    "import os\n",
    "import chess\n",
    "import chess.engine\n",
    "import chess.pgn\n",
    "\n",
    "DATA_FILE_2 = \"chess_data_all_phases.json\"\n",
    "PGN_FILE = \"/workspaces/ChessSeminar/cleaned_one_line.pgn\"\n",
    "ENGINE_PATH = \"/usr/games/stockfish\"\n",
    "MAX_GAMES = 1000\n",
    "\n",
    "def save_data(new_data):\n",
    "    if os.path.exists(DATA_FILE_2):\n",
    "        with open(DATA_FILE_2, \"r\") as f:\n",
    "            existing_data = json.load(f)\n",
    "    else:\n",
    "        existing_data = []\n",
    "    existing_data.extend(new_data)\n",
    "    with open(DATA_FILE_2, \"w\") as f:\n",
    "        json.dump(existing_data, f, indent=2)\n",
    "\n",
    "def load_data():\n",
    "    if os.path.exists(DATA_FILE_2):\n",
    "        with open(DATA_FILE_2, \"r\") as f:\n",
    "            return json.load(f)\n",
    "    else:\n",
    "        return []\n",
    "\n",
    "# === Main ===\n",
    "engine = chess.engine.SimpleEngine.popen_uci(ENGINE_PATH)\n",
    "all_data = load_data()\n",
    "\n",
    "# Determine last analyzed game number\n",
    "if all_data:\n",
    "    last_game_nr = max(d[\"game_nr\"] for d in all_data)\n",
    "else:\n",
    "    last_game_nr = 0\n",
    "\n",
    "with open(PGN_FILE) as pgn:\n",
    "    # Skip previously analyzed games\n",
    "    for _ in range(last_game_nr):\n",
    "        if chess.pgn.read_game(pgn) is None:\n",
    "            break  # End of file reached\n",
    "\n",
    "    game_count = 0\n",
    "    while game_count < MAX_GAMES:\n",
    "        game = chess.pgn.read_game(pgn)\n",
    "        if game is None:\n",
    "            break  # No more games\n",
    "        if current_game_nr == MAX_GAMES:\n",
    "            break\n",
    "\n",
    "        current_game_nr = last_game_nr + game_count + 1\n",
    "        print(f\"Analyse game {current_game_nr}...\")\n",
    "\n",
    "        try:\n",
    "            new_game_data = analyze_game(game, engine, game_nr=current_game_nr)\n",
    "\n",
    "            expected_plies = len(list(game.mainline_moves()))\n",
    "            if len(new_game_data) == expected_plies:\n",
    "                save_data(new_game_data)\n",
    "                print(f\"Game {current_game_nr} saved.\")\n",
    "            else:\n",
    "                print(f\"Game {current_game_nr} NOT saved – analyzation not complete.\")    \n",
    "\n",
    "            game_count += 1\n",
    "        except KeyboardInterrupt:\n",
    "            print(\"Analyzation stoped. Game was not saved.\")\n",
    "            break\n",
    "\n",
    "engine.quit()\n"
   ]
  },
  {
   "cell_type": "markdown",
   "id": "5785f6d2",
   "metadata": {},
   "source": [
    "Game Opening Function"
   ]
  },
  {
   "cell_type": "code",
   "execution_count": 19,
   "id": "f643ea69",
   "metadata": {},
   "outputs": [],
   "source": [
    "#Opening\n",
    "\n",
    "import chess\n",
    "import chess.pgn\n",
    "\n",
    "#Elo scales, 1978 FIDE \n",
    "def get_elo_bucket(elo):\n",
    "    if elo < 1000:\n",
    "        return \"beginner\" #Novices \n",
    "    elif elo < 1400:\n",
    "        return \"intermediate\" #Class E and D\n",
    "    elif elo < 1800:\n",
    "        return \"club_player\" #Class C and B\n",
    "    elif elo < 2200:\n",
    "        return \"advanced\" #Class A and Experts\n",
    "    else:\n",
    "        return \"expert\" #Masters\n",
    "\n",
    "# Convert game result into a label (perspective white)    \n",
    "def result_to_label(result, player):\n",
    "    if result == \"1-0\":\n",
    "        return \"win\" if player == \"white\" else \"loss\"\n",
    "    elif result == \"0-1\":\n",
    "        return \"win\" if player == \"black\" else \"loss\"\n",
    "    elif result == \"1/2-1/2\":\n",
    "        return \"draw\"\n",
    "    else:\n",
    "        return \"unknown\"    \n",
    "\n",
    "# Analyze opening phase of a game with engine comparison\n",
    "def analyze_opening(game, engine, game_nr, depth=20):\n",
    "    board = game.board()\n",
    "    moves = []\n",
    "\n",
    "    white_elo = int(game.headers.get(\"WhiteElo\", 0))\n",
    "    black_elo = int(game.headers.get(\"BlackElo\", 0))\n",
    "    result = game.headers.get(\"Result\", \"*\")\n",
    "\n",
    "    total_plies = len(list(game.mainline_moves()))\n",
    "    opening_limit = int(total_plies * 0.3)\n",
    "    sequence = []\n",
    "    engine_sequence = []\n",
    "\n",
    "    for ply, move in enumerate(game.mainline_moves()):\n",
    "        if ply >= opening_limit:\n",
    "            break\n",
    "\n",
    "        san_move = board.san(move)\n",
    "        sequence.append(san_move)\n",
    "\n",
    "        info_before = engine.analyse(board, chess.engine.Limit(depth=depth))\n",
    "        best_move = info_before[\"pv\"][0] if \"pv\" in info_before else None\n",
    "\n",
    "        if best_move:\n",
    "            best_board = board.copy()\n",
    "            best_board.push(best_move)\n",
    "            info_best = engine.analyse(best_board, chess.engine.Limit(depth=depth))\n",
    "            score_best = (\n",
    "                info_best[\"score\"].white().score(mate_score=10000)\n",
    "                if not info_best[\"score\"].is_mate()\n",
    "                else 10000\n",
    "            )\n",
    "            engine_sequence.append(board.san(best_move))\n",
    "        else:\n",
    "            score_best = None\n",
    "            engine_sequence.append(None)\n",
    "\n",
    "        board.push(move)\n",
    "        info_after = engine.analyse(board, chess.engine.Limit(depth=depth))\n",
    "        score_after = (\n",
    "            info_after[\"score\"].white().score(mate_score=10000)\n",
    "            if not info_after[\"score\"].is_mate()\n",
    "            else 10000\n",
    "        )\n",
    "\n",
    "        player = \"white\" if ply % 2 == 0 else \"black\"\n",
    "        move_quality = (\n",
    "            0 if best_move == move else abs(score_after - score_best) if score_best is not None else None\n",
    "        )\n",
    "\n",
    "        moves.append({\n",
    "            \"ply\": ply,\n",
    "            \"move\": san_move,\n",
    "            \"move_quality\": move_quality,\n",
    "            \"player\": player\n",
    "        })\n",
    "\n",
    "    return {\n",
    "        \"game_nr\": game_nr,\n",
    "        \"white_elo\": white_elo,\n",
    "        \"black_elo\": black_elo,\n",
    "        \"elo_level_white\": get_elo_bucket(white_elo),\n",
    "        \"elo_level_black\": get_elo_bucket(black_elo),\n",
    "        \"result\": result,\n",
    "        \"human_opening_sequence\": \" \".join(sequence),\n",
    "        \"engine_opening_sequence\": \" \".join(engine_sequence),\n",
    "        \"moves\": moves\n",
    "    }\n",
    "\n",
    "\n"
   ]
  },
  {
   "cell_type": "code",
   "execution_count": 19,
   "id": "cfcc490e",
   "metadata": {},
   "outputs": [
    {
     "name": "stdout",
     "output_type": "stream",
     "text": [
      "Analysiere Spiel 1...\n"
     ]
    },
    {
     "ename": "NameError",
     "evalue": "name 'analyze_opening' is not defined",
     "output_type": "error",
     "traceback": [
      "\u001b[31m---------------------------------------------------------------------------\u001b[39m",
      "\u001b[31mNameError\u001b[39m                                 Traceback (most recent call last)",
      "\u001b[36mCell\u001b[39m\u001b[36m \u001b[39m\u001b[32mIn[19]\u001b[39m\u001b[32m, line 63\u001b[39m\n\u001b[32m     60\u001b[39m \u001b[38;5;28mprint\u001b[39m(\u001b[33mf\u001b[39m\u001b[33m\"\u001b[39m\u001b[33mAnalysiere Spiel \u001b[39m\u001b[38;5;132;01m{\u001b[39;00mcurrent_game_nr\u001b[38;5;132;01m}\u001b[39;00m\u001b[33m...\u001b[39m\u001b[33m\"\u001b[39m)\n\u001b[32m     62\u001b[39m \u001b[38;5;28;01mtry\u001b[39;00m:\n\u001b[32m---> \u001b[39m\u001b[32m63\u001b[39m     new_game_data = \u001b[43manalyze_opening\u001b[49m(game, engine, game_nr=current_game_nr)\n\u001b[32m     65\u001b[39m     \u001b[38;5;66;03m# Expected plies in opening phase (like in analyze_opening)\u001b[39;00m\n\u001b[32m     66\u001b[39m     total_plies = \u001b[38;5;28mlen\u001b[39m(\u001b[38;5;28mlist\u001b[39m(game.mainline_moves()))\n",
      "\u001b[31mNameError\u001b[39m: name 'analyze_opening' is not defined"
     ]
    }
   ],
   "source": [
    "import json\n",
    "import os\n",
    "import chess\n",
    "import chess.engine\n",
    "import chess.pgn\n",
    "from io import StringIO\n",
    "\n",
    "DATA_FILE = \"chess_data_opening.json\"\n",
    "\n",
    "def save_data(new_data):\n",
    "    if os.path.exists(DATA_FILE):\n",
    "        with open(DATA_FILE, \"r\") as f:\n",
    "            existing_data = json.load(f)\n",
    "    else:\n",
    "        existing_data = []\n",
    "\n",
    "    existing_data.extend(new_data)\n",
    "\n",
    "    with open(DATA_FILE, \"w\") as f:\n",
    "        json.dump(existing_data, f, indent=2)\n",
    "\n",
    "def load_data():\n",
    "    if os.path.exists(DATA_FILE):\n",
    "        with open(DATA_FILE, \"r\") as f:\n",
    "            return json.load(f)\n",
    "    else:\n",
    "        return []\n",
    "\n",
    "PGN_FILE = \"/workspaces/Chess_Stockfish/cleaned_one_line.pgn\"\n",
    "engine = chess.engine.SimpleEngine.popen_uci(\"/usr/games/stockfish\")\n",
    "\n",
    "MAX_GAMES = 10000\n",
    "game_count = 0\n",
    "\n",
    "all_data = load_data()\n",
    "\n",
    "# Evaluate last saved game_nr\n",
    "if all_data:\n",
    "    last_game_nr = max(d[\"game_nr\"] for d in all_data)\n",
    "else:\n",
    "    last_game_nr = 0\n",
    "#\n",
    "current_game_nr = last_game_nr\n",
    "#\n",
    "\n",
    "with open(PGN_FILE) as pgn:\n",
    "#\n",
    "    for _ in range(current_game_nr):\n",
    "        chess.pgn.read_game(pgn)\n",
    "\n",
    "#\n",
    "\n",
    "    while game_count < MAX_GAMES:\n",
    "        game = chess.pgn.read_game(pgn)\n",
    "        if game is None:\n",
    "            break\n",
    "\n",
    "        game_count += 1\n",
    "        current_game_nr = last_game_nr + game_count\n",
    "        print(f\"Analysiere Spiel {current_game_nr}...\")\n",
    "\n",
    "        try:\n",
    "            new_game_data = analyze_opening(game, engine, game_nr=current_game_nr)\n",
    "\n",
    "            # Expected plies in opening phase (like in analyze_opening)\n",
    "            total_plies = len(list(game.mainline_moves()))\n",
    "            opening_limit = int(total_plies * 0.3)\n",
    "\n",
    "            # Check if all opening moves were analyzed (length of moves list inside new_game_data)\n",
    "            if len(new_game_data[\"moves\"]) == opening_limit:\n",
    "                save_data([new_game_data])  # Save as a list of one item\n",
    "                print(f\"Spiel {current_game_nr} gespeichert.\")\n",
    "            else:\n",
    "                print(f\"Spiel {current_game_nr} NICHT gespeichert – Analyse unvollständig.\")\n",
    "        except KeyboardInterrupt:\n",
    "            print(\"Analyse abgebrochen. Spiel wird nicht gespeichert.\")\n",
    "            break\n",
    "\n",
    "engine.quit()\n"
   ]
  },
  {
   "cell_type": "code",
   "execution_count": 6,
   "id": "377f526a",
   "metadata": {},
   "outputs": [],
   "source": [
    "import json\n",
    "\n",
    "DATA_FILE_2 = \"chess_data_all_phases.json\"\n",
    "\n",
    "# Load the data\n",
    "with open(DATA_FILE_2, \"r\") as f2:\n",
    "    all_data = json.load(f2)"
   ]
  },
  {
   "cell_type": "markdown",
   "id": "f36a0175",
   "metadata": {},
   "source": [
    "Analysis Whole game (all phases)"
   ]
  },
  {
   "cell_type": "code",
   "execution_count": 14,
   "id": "87895801",
   "metadata": {},
   "outputs": [
    {
     "name": "stdout",
     "output_type": "stream",
     "text": [
      "Average move_quality whole game all elo levels: 292.0754251910279\n",
      "Average move_quality whole game all elo levels but only white players: 287.0321213109408\n",
      "Average move_quality whole game all elo levels but only black players: 297.198078834051\n"
     ]
    }
   ],
   "source": [
    "move_qualities = [entry[\"move_quality\"] for entry in all_data if entry[\"move_quality\"] is not None]\n",
    "avg_move_quality = sum(move_qualities) / len(move_qualities)\n",
    "print(f\"Average move_quality whole game all elo levels: {avg_move_quality}\")\n",
    "\n",
    "move_qualities_white = [entry[\"move_quality\"] for entry in all_data if entry[\"move_quality\"] is not None and entry[\"player\"] == 'white']\n",
    "avg_move_quality_white = sum(move_qualities_white) / len(move_qualities_white)\n",
    "print(f\"Average move_quality whole game all elo levels but only white players: {avg_move_quality_white}\")\n",
    "\n",
    "move_qualities_black = [entry[\"move_quality\"] for entry in all_data if entry[\"move_quality\"] is not None and entry[\"player\"] == 'black']\n",
    "avg_move_quality_black = sum(move_qualities_black) / len(move_qualities_black)\n",
    "print(f\"Average move_quality whole game all elo levels but only black players: {avg_move_quality_black}\")"
   ]
  },
  {
   "cell_type": "code",
   "execution_count": 30,
   "id": "b07cb39e",
   "metadata": {},
   "outputs": [
    {
     "name": "stdout",
     "output_type": "stream",
     "text": [
      "Percentage of players with elo_level beginner being player white: 0.4782608695652174\n",
      "Percentage of players with elo_level intermediate being player white: 0.503448275862069\n",
      "Percentage of players with elo_level club_player being player white: 0.5035211267605634\n",
      "Percentage of players with elo_level advanced being player white: 0.5\n",
      "Percentage of players with elo_level expert being player white: 0.5254237288135594\n"
     ]
    }
   ],
   "source": [
    "total_white = len([entry[\"game_nr\"] for entry in all_data if entry[\"ply\"] == 0])\n",
    "elo_levels = [\"beginner\", \"intermediate\", \"club_player\", \"advanced\", \"expert\"]\n",
    "for level in elo_levels:\n",
    "    number_games_elo_level_white = len([entry[\"game_nr\"] for entry in all_data if entry[\"elo_level\"] == level and entry[\"ply\"] == 0])\n",
    "    number_games_elo_level =  len([entry[\"game_nr\"] for entry in all_data if entry[\"elo_level\"] == level and entry[\"ply\"] < 2])\n",
    "    percentage_elo_level_white = number_games_elo_level_white / number_games_elo_level\n",
    "    print(f\"Percentage of players with elo_level {level} being player white: {percentage_elo_level_white}\")    "
   ]
  },
  {
   "cell_type": "markdown",
   "id": "b756d352",
   "metadata": {},
   "source": [
    "Percentage of games won by players with different move quality in their first turn"
   ]
  },
  {
   "cell_type": "code",
   "execution_count": 5,
   "id": "4f45d4be",
   "metadata": {},
   "outputs": [
    {
     "name": "stdout",
     "output_type": "stream",
     "text": [
      "Number of games won all elo levels with move_quality first turn over -100: 153\n",
      "Percentage of games won all elo levels with move_quality first turn over -100: 0.4722222222222222\n",
      "\n",
      "Number of games won all elo levels with move_quality first turn over -75: 153\n",
      "Percentage of games won all elo levels with move_quality first turn over -75: 0.4722222222222222\n",
      "\n",
      "Number of games won all elo levels with move_quality first turn over -50: 153\n",
      "Percentage of games won all elo levels with move_quality first turn over -50: 0.4722222222222222\n",
      "\n",
      "Number of games won all elo levels with move_quality first turn over -25: 153\n",
      "Percentage of games won all elo levels with move_quality first turn over -25: 0.4722222222222222\n",
      "\n",
      "Number of games won all elo levels with move_quality first turn over -10: 153\n",
      "Percentage of games won all elo levels with move_quality first turn over -10: 0.4722222222222222\n",
      "\n"
     ]
    }
   ],
   "source": [
    "thresholds = [-100, -75, -50, -25, -10]\n",
    "for threshold in thresholds:\n",
    "    number_games_win = len([\n",
    "        entry[\"game_nr\"] for entry in all_data\n",
    "        if entry['result'] == 'win' and entry[\"ply\"] < 2 and entry['move_quality'] > threshold\n",
    "    ])\n",
    "    total_games = len([\n",
    "        entry[\"game_nr\"] for entry in all_data\n",
    "        if entry[\"ply\"] < 2 and entry['move_quality'] > threshold\n",
    "    ])\n",
    "    percentage_games_won = number_games_win / total_games if total_games > 0 else 0\n",
    "    print(f\"Number of games won all elo levels with move_quality first turn over {threshold}: {number_games_win}\")\n",
    "    print(f\"Percentage of games won all elo levels with move_quality first turn over {threshold}: {percentage_games_won}\")\n",
    "    print('')\n"
   ]
  },
  {
   "cell_type": "code",
   "execution_count": 6,
   "id": "0c711bcb",
   "metadata": {},
   "outputs": [
    {
     "name": "stdout",
     "output_type": "stream",
     "text": [
      "\n",
      "=== Threshold: White move_quality > -100 (averaged over N plies) ===\n",
      "White's first 1 moves:  Games with avg move_quality > -100: 162 and Win percentage: 50.62%\n",
      "White's first 2 moves:  Games with avg move_quality > -100: 162 and Win percentage: 50.62%\n",
      "White's first 3 moves:  Games with avg move_quality > -100: 162 and Win percentage: 50.62%\n",
      "White's first 4 moves:  Games with avg move_quality > -100: 162 and Win percentage: 50.62%\n",
      "White's first 5 moves:  Games with avg move_quality > -100: 162 and Win percentage: 50.62%\n",
      "\n",
      "=== Threshold: White move_quality > -75 (averaged over N plies) ===\n",
      "White's first 1 moves:  Games with avg move_quality > -75: 162 and Win percentage: 50.62%\n",
      "White's first 2 moves:  Games with avg move_quality > -75: 162 and Win percentage: 50.62%\n",
      "White's first 3 moves:  Games with avg move_quality > -75: 162 and Win percentage: 50.62%\n",
      "White's first 4 moves:  Games with avg move_quality > -75: 162 and Win percentage: 50.62%\n",
      "White's first 5 moves:  Games with avg move_quality > -75: 162 and Win percentage: 50.62%\n",
      "\n",
      "=== Threshold: White move_quality > -50 (averaged over N plies) ===\n",
      "White's first 1 moves:  Games with avg move_quality > -50: 162 and Win percentage: 50.62%\n",
      "White's first 2 moves:  Games with avg move_quality > -50: 162 and Win percentage: 50.62%\n",
      "White's first 3 moves:  Games with avg move_quality > -50: 162 and Win percentage: 50.62%\n",
      "White's first 4 moves:  Games with avg move_quality > -50: 162 and Win percentage: 50.62%\n",
      "White's first 5 moves:  Games with avg move_quality > -50: 162 and Win percentage: 50.62%\n",
      "\n",
      "=== Threshold: White move_quality > -25 (averaged over N plies) ===\n",
      "White's first 1 moves:  Games with avg move_quality > -25: 162 and Win percentage: 50.62%\n",
      "White's first 2 moves:  Games with avg move_quality > -25: 162 and Win percentage: 50.62%\n",
      "White's first 3 moves:  Games with avg move_quality > -25: 162 and Win percentage: 50.62%\n",
      "White's first 4 moves:  Games with avg move_quality > -25: 162 and Win percentage: 50.62%\n",
      "White's first 5 moves:  Games with avg move_quality > -25: 162 and Win percentage: 50.62%\n",
      "\n",
      "=== Threshold: White move_quality > -10 (averaged over N plies) ===\n",
      "White's first 1 moves:  Games with avg move_quality > -10: 162 and Win percentage: 50.62%\n",
      "White's first 2 moves:  Games with avg move_quality > -10: 162 and Win percentage: 50.62%\n",
      "White's first 3 moves:  Games with avg move_quality > -10: 162 and Win percentage: 50.62%\n",
      "White's first 4 moves:  Games with avg move_quality > -10: 162 and Win percentage: 50.62%\n",
      "White's first 5 moves:  Games with avg move_quality > -10: 162 and Win percentage: 50.62%\n"
     ]
    }
   ],
   "source": [
    "thresholds = [-100, -75, -50, -25, -10]\n",
    "max_ply_ranges = [2, 4, 6, 8, 10]  # First 1 to 5 White moves (plies 0, 2, 4, ...)\n",
    "\n",
    "for threshold in thresholds:\n",
    "    print(f\"\\n=== Threshold: White move_quality > {threshold} (averaged over N plies) ===\")\n",
    "    \n",
    "    for max_ply in max_ply_ranges:\n",
    "        games_by_id = {}\n",
    "        \n",
    "        for entry in all_data:\n",
    "            if entry[\"ply\"] < max_ply and entry[\"ply\"] % 2 == 0 and entry['move_quality'] is not None:\n",
    "                game_id = entry[\"game_nr\"]\n",
    "                if game_id not in games_by_id:\n",
    "                    games_by_id[game_id] = {\n",
    "                        \"move_qualities\": [],\n",
    "                        \"result\": entry[\"result\"]\n",
    "                    }\n",
    "                games_by_id[game_id][\"move_qualities\"].append(entry[\"move_quality\"])\n",
    "\n",
    "        # Filter games by average move_quality over white's first N moves\n",
    "        qualified_game_ids = []\n",
    "        wins = 0\n",
    "        for game_id, data in games_by_id.items():\n",
    "            if len(data[\"move_qualities\"]) == 0:\n",
    "                continue\n",
    "            avg_quality = sum(data[\"move_qualities\"]) / len(data[\"move_qualities\"])\n",
    "            if avg_quality > threshold:\n",
    "                qualified_game_ids.append(game_id)\n",
    "                if data[\"result\"] == \"win\":\n",
    "                    wins += 1\n",
    "\n",
    "        total_games = len(qualified_game_ids)\n",
    "        win_percentage = wins / total_games if total_games > 0 else 0\n",
    "\n",
    "        print(f\"White's first {max_ply // 2} moves:  Games with avg move_quality > {threshold}: {total_games} and Win percentage: {win_percentage:.2%}\")\n"
   ]
  },
  {
   "cell_type": "markdown",
   "id": "7c1c9050",
   "metadata": {},
   "source": [
    "\n",
    "Average move_qualities of players with different elo levels for all phases of the game"
   ]
  },
  {
   "cell_type": "code",
   "execution_count": 7,
   "id": "4c2a2ed4",
   "metadata": {},
   "outputs": [
    {
     "name": "stdout",
     "output_type": "stream",
     "text": [
      "Average move_quality whole game beginner: 267.0017410228509\n",
      "Average move_quality whole game intermediate: 310.69380324765166\n",
      "Average move_quality whole game club_player: 246.63238312428734\n",
      "Average move_quality whole game advanced: 256.45976369894873\n",
      "Average move_quality whole game expert: 262.74301463600074\n"
     ]
    }
   ],
   "source": [
    "elo_levels = [\"beginner\", \"intermediate\", \"club_player\", \"advanced\", \"expert\"]\n",
    "\n",
    "for level in elo_levels:\n",
    "    move_qualities = [ entry[\"move_quality\"] for entry in all_data\n",
    "        if entry[\"move_quality\"] is not None and entry['elo_level'] == level\n",
    "    ]\n",
    "    avg_move_quality = sum(move_qualities) / len(move_qualities) if move_qualities else 0\n",
    "    print(f\"Average move_quality whole game {level}: {avg_move_quality}\")"
   ]
  },
  {
   "cell_type": "markdown",
   "id": "25da8bc1",
   "metadata": {},
   "source": [
    "Percentage of games won by players of different elo levels"
   ]
  },
  {
   "cell_type": "code",
   "execution_count": 15,
   "id": "10540f39",
   "metadata": {},
   "outputs": [
    {
     "name": "stdout",
     "output_type": "stream",
     "text": [
      "Number of games won beginner: 8\n",
      "Percentage of games won beginner: 0.4444444444444444\n",
      "\n",
      "Number of games won intermediate: 23\n",
      "Percentage of games won intermediate: 0.4791666666666667\n",
      "\n",
      "Number of games won club_player: 44\n",
      "Percentage of games won club_player: 0.4943820224719101\n",
      "\n",
      "Number of games won advanced: 42\n",
      "Percentage of games won advanced: 0.5\n",
      "\n",
      "Number of games won expert: 10\n",
      "Percentage of games won expert: 0.5263157894736842\n",
      "\n"
     ]
    }
   ],
   "source": [
    "elo_levels = ['beginner', 'intermediate', 'club_player', 'advanced', 'expert']\n",
    "#white\n",
    "for level in elo_levels:\n",
    "    games = {entry[\"game_nr\"] for entry in all_data if entry[\"ply\"] < 1 and entry[\"elo_level\"] == level}\n",
    "    wins = {entry[\"game_nr\"] for entry in all_data if entry[\"ply\"] < 1 and entry[\"elo_level\"] == level and entry['result'] == 'win'}\n",
    "    \n",
    "    num_games = len(games)\n",
    "    num_wins = len(wins)\n",
    "    percentage = num_wins / num_games if num_games > 0 else 0\n",
    "\n",
    "    print(f\"Number of games won {level}: {num_wins}\")\n",
    "    print(f\"Percentage of games won {level}: {percentage}\")\n",
    "    print('')\n"
   ]
  },
  {
   "cell_type": "markdown",
   "id": "9256eb24",
   "metadata": {},
   "source": [
    "Phase Opening"
   ]
  },
  {
   "cell_type": "code",
   "execution_count": 11,
   "id": "79d4d55e",
   "metadata": {},
   "outputs": [
    {
     "name": "stdout",
     "output_type": "stream",
     "text": [
      "Average move_quality opening all elo levels: -40.798086728499975\n"
     ]
    }
   ],
   "source": [
    "move_qualities_opening = [entry[\"move_quality\"] for entry in all_data if entry[\"move_quality\"] is not None and entry[\"phase\"] == 'opening']\n",
    "avg_move_quality_opening = sum(move_qualities_opening) / len(move_qualities_opening)\n",
    "print(f\"Average move_quality opening all elo levels: {avg_move_quality_opening}\")"
   ]
  },
  {
   "cell_type": "code",
   "execution_count": 8,
   "id": "8ce4a155",
   "metadata": {},
   "outputs": [
    {
     "name": "stdout",
     "output_type": "stream",
     "text": [
      "Average move_quality opening beginner: 40.83638928067701\n",
      "Average move_quality opening intermediate: 46.78010471204188\n",
      "Average move_quality opening club_player: 46.44042838018741\n",
      "Average move_quality opening advanced: 38.98437025796662\n",
      "Average move_quality opening expert: 33.44086687306501\n"
     ]
    }
   ],
   "source": [
    "elo_levels = ['beginner', 'intermediate', 'club_player', 'advanced', 'expert']\n",
    "\n",
    "for level in elo_levels:\n",
    "    move_qualities_opening = [\n",
    "        entry[\"move_quality\"]\n",
    "        for entry in all_data\n",
    "        if entry[\"move_quality\"] is not None and\n",
    "           entry[\"elo_level\"] == level and\n",
    "           entry[\"phase\"] == \"opening\"\n",
    "    ]\n",
    "\n",
    "    if move_qualities_opening:  # schützt vor Division durch 0\n",
    "        avg_move_quality = sum(move_qualities_opening) / len(move_qualities_opening)\n",
    "        print(f\"Average move_quality opening {level}: {avg_move_quality}\")\n",
    "    else:\n",
    "        print(f\"No data for opening phase in elo level {level}.\")"
   ]
  },
  {
   "cell_type": "markdown",
   "id": "72854782",
   "metadata": {},
   "source": [
    "Phase Middlegame"
   ]
  },
  {
   "cell_type": "code",
   "execution_count": 9,
   "id": "b42c9011",
   "metadata": {},
   "outputs": [
    {
     "name": "stdout",
     "output_type": "stream",
     "text": [
      "Average move_quality middlegame all elo levels: 216.85108410769598\n"
     ]
    }
   ],
   "source": [
    "move_qualities_middle = [entry[\"move_quality\"] for entry in all_data if entry[\"move_quality\"] is not None and entry[\"phase\"] == 'middlegame']\n",
    "avg_move_quality_middle = sum(move_qualities_middle) / len(move_qualities_middle)\n",
    "print(f\"Average move_quality middlegame all elo levels: {avg_move_quality_middle}\")"
   ]
  },
  {
   "cell_type": "code",
   "execution_count": 11,
   "id": "7c100fd3",
   "metadata": {},
   "outputs": [
    {
     "name": "stdout",
     "output_type": "stream",
     "text": [
      "Average move_quality middlegame beginner: 152.78598795840176\n",
      "Average move_quality middlegame intermediate: 242.07744046536993\n",
      "Average move_quality middlegame club_player: 157.39558187201092\n",
      "Average move_quality middlegame advanced: 179.35111576011158\n",
      "Average move_quality middlegame expert: 202.4244296577947\n"
     ]
    }
   ],
   "source": [
    "elo_levels = ['beginner', 'intermediate', 'club_player', 'advanced', 'expert']\n",
    "\n",
    "for level in elo_levels:\n",
    "    move_qualities_middlegame = [\n",
    "        entry[\"move_quality\"]\n",
    "        for entry in all_data\n",
    "        if entry[\"move_quality\"] is not None and\n",
    "           entry[\"elo_level\"] == level and\n",
    "           entry[\"phase\"] == \"middlegame\"\n",
    "    ]\n",
    "\n",
    "    if move_qualities_middlegame:  # schützt vor Division durch 0\n",
    "        avg_move_quality = sum(move_qualities_middlegame) / len(move_qualities_middlegame)\n",
    "        print(f\"Average move_quality middlegame {level}: {avg_move_quality}\")\n",
    "    else:\n",
    "        print(f\"No data for middlegame phase in elo level {level}.\")"
   ]
  },
  {
   "cell_type": "markdown",
   "id": "b30af02e",
   "metadata": {},
   "source": [
    "Endgame"
   ]
  },
  {
   "cell_type": "code",
   "execution_count": 11,
   "id": "93db30b9",
   "metadata": {},
   "outputs": [
    {
     "name": "stdout",
     "output_type": "stream",
     "text": [
      "Average move_quality endgame all elo levels: 603.7662420382165\n"
     ]
    }
   ],
   "source": [
    "move_qualities_endgame = [entry[\"move_quality\"] for entry in all_data if entry[\"move_quality\"] is not None and entry[\"phase\"] == 'endgame']\n",
    "avg_move_quality_endgame = sum(move_qualities_endgame) / len(move_qualities_endgame)\n",
    "print(f\"Average move_quality endgame all elo levels: {avg_move_quality_endgame}\")"
   ]
  },
  {
   "cell_type": "code",
   "execution_count": 10,
   "id": "ebf9be3f",
   "metadata": {},
   "outputs": [
    {
     "name": "stdout",
     "output_type": "stream",
     "text": [
      "Average move_quality endgame beginner: 659.1311111111111\n",
      "Average move_quality endgame intermediate: 679.5334987593052\n",
      "Average move_quality endgame club_player: 578.3408099688473\n",
      "Average move_quality endgame advanced: 589.0431472081218\n",
      "Average move_quality endgame expert: 585.2029831387808\n"
     ]
    }
   ],
   "source": [
    "elo_levels = ['beginner', 'intermediate', 'club_player', 'advanced', 'expert']\n",
    "\n",
    "for level in elo_levels:\n",
    "    move_qualities_endgame = [\n",
    "        entry[\"move_quality\"]\n",
    "        for entry in all_data\n",
    "        if entry[\"move_quality\"] is not None and\n",
    "           entry[\"elo_level\"] == level and\n",
    "           entry[\"phase\"] == \"endgame\"\n",
    "    ]\n",
    "\n",
    "    if move_qualities_endgame:  # schützt vor Division durch 0\n",
    "        avg_move_quality = sum(move_qualities_endgame) / len(move_qualities_endgame)\n",
    "        print(f\"Average move_quality endgame {level}: {avg_move_quality}\")\n",
    "    else:\n",
    "        print(f\"No data for endgame phase in elo level {level}.\")"
   ]
  },
  {
   "cell_type": "markdown",
   "id": "b22132f5",
   "metadata": {},
   "source": [
    "Percentages of games won with different ranges of avg move_quality by white player"
   ]
  },
  {
   "cell_type": "code",
   "execution_count": 16,
   "id": "6281140e",
   "metadata": {},
   "outputs": [
    {
     "ename": "NameError",
     "evalue": "name 'number2' is not defined",
     "output_type": "error",
     "traceback": [
      "\u001b[31m---------------------------------------------------------------------------\u001b[39m",
      "\u001b[31mNameError\u001b[39m                                 Traceback (most recent call last)",
      "\u001b[36mCell\u001b[39m\u001b[36m \u001b[39m\u001b[32mIn[16]\u001b[39m\u001b[32m, line 16\u001b[39m\n\u001b[32m     14\u001b[39m \u001b[38;5;28;01mif\u001b[39;00m move_qualities_dif_game_nr:\n\u001b[32m     15\u001b[39m     avg_move_quality_game_nr = \u001b[38;5;28msum\u001b[39m(move_qualities_dif_game_nr) / \u001b[38;5;28mlen\u001b[39m(move_qualities_dif_game_nr)\n\u001b[32m---> \u001b[39m\u001b[32m16\u001b[39m     \u001b[38;5;28;01mif\u001b[39;00m avg_move_quality_game_nr <= \u001b[43mnumber2\u001b[49m[n] \u001b[38;5;129;01mand\u001b[39;00m avg_move_quality_game_nr > number[n]:\n\u001b[32m     17\u001b[39m         count += \u001b[32m1\u001b[39m\n\u001b[32m     19\u001b[39m move_qualities_dif_game_nr = [\n\u001b[32m     20\u001b[39m     entry[\u001b[33m\"\u001b[39m\u001b[33mmove_quality\u001b[39m\u001b[33m\"\u001b[39m]\n\u001b[32m     21\u001b[39m     \u001b[38;5;28;01mfor\u001b[39;00m entry \u001b[38;5;129;01min\u001b[39;00m all_data\n\u001b[32m     22\u001b[39m     \u001b[38;5;28;01mif\u001b[39;00m entry[\u001b[33m\"\u001b[39m\u001b[33mgame_nr\u001b[39m\u001b[33m\"\u001b[39m] == game_nr\n\u001b[32m     23\u001b[39m     \u001b[38;5;129;01mand\u001b[39;00m entry[\u001b[33m\"\u001b[39m\u001b[33mplayer\u001b[39m\u001b[33m\"\u001b[39m] == \u001b[33m'\u001b[39m\u001b[33mwhite\u001b[39m\u001b[33m'\u001b[39m\n\u001b[32m     24\u001b[39m ]\n",
      "\u001b[31mNameError\u001b[39m: name 'number2' is not defined"
     ]
    }
   ],
   "source": [
    "for n in range(6):\n",
    "    count = 0\n",
    "    count2 = 0\n",
    "    for game_nr in range(10001):\n",
    "        if game_nr == 0:\n",
    "            continue\n",
    "        move_qualities_dif_game_nr = [\n",
    "            entry[\"move_quality\"]\n",
    "            for entry in all_data\n",
    "            if entry[\"game_nr\"] == game_nr\n",
    "            and entry[\"player\"] == 'white'\n",
    "            and entry['result'] == 'win'\n",
    "        ]\n",
    "        if move_qualities_dif_game_nr:\n",
    "            avg_move_quality_game_nr = sum(move_qualities_dif_game_nr) / len(move_qualities_dif_game_nr)\n",
    "            if avg_move_quality_game_nr <= number2[n] and avg_move_quality_game_nr > number[n]:\n",
    "                count += 1\n",
    "\n",
    "        move_qualities_dif_game_nr = [\n",
    "            entry[\"move_quality\"]\n",
    "            for entry in all_data\n",
    "            if entry[\"game_nr\"] == game_nr\n",
    "            and entry[\"player\"] == 'white'\n",
    "        ]\n",
    "        if move_qualities_dif_game_nr:\n",
    "            avg_move_quality_game_nr = sum(move_qualities_dif_game_nr) / len(move_qualities_dif_game_nr)\n",
    "            if avg_move_quality_game_nr <= number2[n] and avg_move_quality_game_nr > number[n]:\n",
    "                count2 += 1\n",
    "\n",
    "    percentage = count / count2 if count2 > 0 else 0\n",
    "    print(f\"Percentage of games won with average move_quality - {number[n]} < move_quality <= {number2[n]}: {percentage}\")\n"
   ]
  },
  {
   "cell_type": "markdown",
   "id": "e624166c",
   "metadata": {},
   "source": [
    "Only opening phase"
   ]
  },
  {
   "cell_type": "code",
   "execution_count": 22,
   "id": "0b3f21e8",
   "metadata": {},
   "outputs": [],
   "source": [
    "import json\n",
    "\n",
    "DATA_FILE = \"chess_data_opening.json\"\n",
    "\n",
    "# Load the data\n",
    "with open(DATA_FILE, \"r\") as f:\n",
    "    data = json.load(f)"
   ]
  },
  {
   "cell_type": "code",
   "execution_count": 28,
   "id": "721279d2",
   "metadata": {},
   "outputs": [
    {
     "name": "stdout",
     "output_type": "stream",
     "text": [
      "Average move quality across all games: -38.30\n"
     ]
    }
   ],
   "source": [
    "# Initialize counters\n",
    "total_quality = 0\n",
    "count = 0\n",
    "# Iterate through games\n",
    "for game in data:\n",
    "    moves = game.get(\"moves\", [])\n",
    "    for move in moves:\n",
    "        mq = move.get(\"move_quality\")\n",
    "        if mq is not None:\n",
    "            total_quality += mq\n",
    "            count += 1\n",
    "\n",
    "# Calculate and print average\n",
    "if count > 0:\n",
    "    avg_quality = total_quality / count\n",
    "    print(f\"Average move quality across all games: {avg_quality:.2f}\")\n",
    "else:\n",
    "    print(\"No move_quality data found.\")"
   ]
  },
  {
   "cell_type": "code",
   "execution_count": 29,
   "id": "a41d296e",
   "metadata": {},
   "outputs": [
    {
     "name": "stdout",
     "output_type": "stream",
     "text": [
      "White - beginner: Average move quality = -59.60\n",
      "White - intermediate: Average move quality = -38.34\n",
      "White - club_player: Average move quality = -37.55\n",
      "White - advanced: Average move quality = -33.14\n",
      "White - expert: Average move quality = -40.21\n"
     ]
    }
   ],
   "source": [
    "elo_levels = [\"beginner\", \"intermediate\", \"club_player\", \"advanced\", \"expert\"]\n",
    "\n",
    "for level in elo_levels:\n",
    "    total_quality = 0\n",
    "    count = 0\n",
    "\n",
    "    # Iterate through games\n",
    "    for game in data:\n",
    "        if game.get(\"elo_level_white\") == level:\n",
    "            moves = game.get(\"moves\", [])\n",
    "            for move in moves:\n",
    "                if move.get(\"player\") == \"white\":\n",
    "                    mq = move.get(\"move_quality\")\n",
    "                    if mq is not None:\n",
    "                        total_quality += mq\n",
    "                        count += 1\n",
    "\n",
    "    # Calculate and print average\n",
    "    if count > 0:\n",
    "        avg_quality_white = total_quality / count\n",
    "        print(f\"White - {level}: Average move quality = {avg_quality_white:.2f}\")\n",
    "    else:\n",
    "        print(f\"White - {level}: No move_quality data found.\")\n"
   ]
  },
  {
   "cell_type": "code",
   "execution_count": 30,
   "id": "ba43974c",
   "metadata": {},
   "outputs": [
    {
     "name": "stdout",
     "output_type": "stream",
     "text": [
      "Black - beginner: Average move quality = -35.67\n",
      "Black - intermediate: Average move quality = -32.83\n",
      "Black - club_player: Average move quality = -40.60\n",
      "Black - advanced: Average move quality = -41.06\n",
      "Black - expert: Average move quality = -41.97\n"
     ]
    }
   ],
   "source": [
    "elo_levels = [\"beginner\", \"intermediate\", \"club_player\", \"advanced\", \"expert\"]\n",
    "\n",
    "for level in elo_levels:\n",
    "    total_quality = 0\n",
    "    count = 0\n",
    "\n",
    "    # Iterate through games\n",
    "    for game in data:\n",
    "        if game.get(\"elo_level_black\") == level:\n",
    "            moves = game.get(\"moves\", [])\n",
    "            for move in moves:\n",
    "                if move.get(\"player\") == \"black\":\n",
    "                    mq = move.get(\"move_quality\")\n",
    "                    if mq is not None:\n",
    "                        total_quality += mq\n",
    "                        count += 1\n",
    "\n",
    "    # Calculate and print average\n",
    "    if count > 0:\n",
    "        avg_quality = total_quality / count\n",
    "        print(f\"Black - {level}: Average move quality = {avg_quality:.2f}\")\n",
    "    else:\n",
    "        print(f\"Black - {level}: No move_quality data found.\")\n"
   ]
  },
  {
   "cell_type": "code",
   "execution_count": 31,
   "id": "188447a6",
   "metadata": {},
   "outputs": [
    {
     "name": "stdout",
     "output_type": "stream",
     "text": [
      "beginner: Combined average move quality (white + black) = -46.73\n",
      "intermediate: Combined average move quality (white + black) = -35.58\n",
      "club_player: Combined average move quality (white + black) = -39.03\n",
      "advanced: Combined average move quality (white + black) = -36.96\n",
      "expert: Combined average move quality (white + black) = -41.01\n"
     ]
    }
   ],
   "source": [
    "elo_levels = [\"beginner\", \"intermediate\", \"club_player\", \"advanced\", \"expert\"]\n",
    "\n",
    "for level in elo_levels:\n",
    "    total_quality = 0\n",
    "    count = 0\n",
    "\n",
    "    for game in data:\n",
    "        # For white player\n",
    "        if game.get(\"elo_level_white\") == level:\n",
    "            for move in game.get(\"moves\", []):\n",
    "                if move.get(\"player\") == \"white\":\n",
    "                    mq = move.get(\"move_quality\")\n",
    "                    if mq is not None:\n",
    "                        total_quality += mq\n",
    "                        count += 1\n",
    "\n",
    "        # For black player\n",
    "        if game.get(\"elo_level_black\") == level:\n",
    "            for move in game.get(\"moves\", []):\n",
    "                if move.get(\"player\") == \"black\":\n",
    "                    mq = move.get(\"move_quality\")\n",
    "                    if mq is not None:\n",
    "                        total_quality += mq\n",
    "                        count += 1\n",
    "\n",
    "    # Output combined result\n",
    "    if count > 0:\n",
    "        avg_quality = total_quality / count\n",
    "        print(f\"{level}: Combined average move quality (white + black) = {avg_quality:.2f}\")\n",
    "    else:\n",
    "        print(f\"{level}: No move_quality data found.\")\n"
   ]
  },
  {
   "cell_type": "code",
   "execution_count": 32,
   "id": "4ce2bc39",
   "metadata": {},
   "outputs": [
    {
     "name": "stdout",
     "output_type": "stream",
     "text": [
      "Number of games won by beginner: 18\n",
      "Percentage of games won by beginner: 46.15%\n",
      "\n",
      "Number of games won by intermediate: 63\n",
      "Percentage of games won by intermediate: 48.09%\n",
      "\n",
      "Number of games won by club_player: 124\n",
      "Percentage of games won by club_player: 49.21%\n",
      "\n",
      "Number of games won by advanced: 98\n",
      "Percentage of games won by advanced: 47.80%\n",
      "\n",
      "Number of games won by expert: 24\n",
      "Percentage of games won by expert: 43.64%\n",
      "\n"
     ]
    }
   ],
   "source": [
    "elo_levels = [\"beginner\", \"intermediate\", \"club_player\", \"advanced\", \"expert\"]\n",
    "\n",
    "# Initialize counters\n",
    "wins_by_level = {level: 0 for level in elo_levels}\n",
    "games_by_level = {level: 0 for level in elo_levels}\n",
    "\n",
    "for game in data:\n",
    "    result = game.get(\"result\")\n",
    "    white_level = game.get(\"elo_level_white\")\n",
    "    black_level = game.get(\"elo_level_black\")\n",
    "\n",
    "    # Count white player's result\n",
    "    if white_level in elo_levels:\n",
    "        games_by_level[white_level] += 1\n",
    "        if result == \"1-0\":  # white wins\n",
    "            wins_by_level[white_level] += 1\n",
    "\n",
    "    # Count black player's result\n",
    "    if black_level in elo_levels:\n",
    "        games_by_level[black_level] += 1\n",
    "        if result == \"0-1\":  # black wins\n",
    "            wins_by_level[black_level] += 1\n",
    "\n",
    "# Output results\n",
    "for level in elo_levels:\n",
    "    wins = wins_by_level[level]\n",
    "    total = games_by_level[level]\n",
    "    percentage = wins / total if total > 0 else 0\n",
    "    print(f\"Number of games won by {level}: {wins}\")\n",
    "    print(f\"Percentage of games won by {level}: {percentage:.2%}\\n\")\n"
   ]
  },
  {
   "cell_type": "code",
   "execution_count": 43,
   "id": "ccd560de",
   "metadata": {},
   "outputs": [
    {
     "name": "stdout",
     "output_type": "stream",
     "text": [
      "Win Rate Matrix (Player vs Opponent):\n",
      "\n",
      "Player \\ Opponent beginner      intermediate  club_player   advanced      expert        \n",
      "----------------------------------------------------------------------------------------\n",
      "beginner            46.9%         50.0%         33.3%          0.0%          0.0%       \n",
      "intermediate        50.0%         49.2%         47.1%          0.0%          0.0%       \n",
      "club_player         66.7%         52.9%         49.2%         44.4%          0.0%       \n",
      "advanced             0.0%        100.0%         55.6%         46.8%         50.0%       \n",
      "expert               0.0%        100.0%          0.0%         41.7%         43.5%       \n"
     ]
    }
   ],
   "source": [
    "elo_levels = [\"beginner\", \"intermediate\", \"club_player\", \"advanced\", \"expert\"]\n",
    "\n",
    "# Initialize counters: player_vs_opponent[player_level][opponent_level] = {\"wins\": 0, \"total\": 0}\n",
    "player_vs_opponent = {\n",
    "    pl: {op: {\"wins\": 0, \"total\": 0} for op in elo_levels}\n",
    "    for pl in elo_levels\n",
    "}\n",
    "\n",
    "for game in data:\n",
    "    result = game.get(\"result\")\n",
    "    white_level = game.get(\"elo_level_white\")\n",
    "    black_level = game.get(\"elo_level_black\")\n",
    "\n",
    "    # White player perspective\n",
    "    if white_level in elo_levels and black_level in elo_levels:\n",
    "        player_vs_opponent[white_level][black_level][\"total\"] += 1\n",
    "        if result == \"1-0\":\n",
    "            player_vs_opponent[white_level][black_level][\"wins\"] += 1\n",
    "\n",
    "    # Black player perspective\n",
    "    if black_level in elo_levels and white_level in elo_levels:\n",
    "        player_vs_opponent[black_level][white_level][\"total\"] += 1\n",
    "        if result == \"0-1\":\n",
    "            player_vs_opponent[black_level][white_level][\"wins\"] += 1\n",
    "\n",
    "# Print matrix\n",
    "print(\"Win Rate Matrix (Player vs Opponent):\\n\")\n",
    "header = \"Player \\\\ Opponent\".ljust(18) + \"\".join(f\"{op.ljust(14)}\" for op in elo_levels)\n",
    "print(header)\n",
    "print(\"-\" * len(header))\n",
    "for pl in elo_levels:\n",
    "    row = pl.ljust(18)\n",
    "    for op in elo_levels:\n",
    "        matchup = player_vs_opponent[pl][op]\n",
    "        total = matchup[\"total\"]\n",
    "        wins = matchup[\"wins\"]\n",
    "        win_rate = (wins / total * 100) if total > 0 else 0\n",
    "        row += f\"{win_rate:6.1f}%\".ljust(14)\n",
    "    print(row)\n"
   ]
  },
  {
   "cell_type": "code",
   "execution_count": 13,
   "id": "7ede5d46",
   "metadata": {},
   "outputs": [
    {
     "name": "stdout",
     "output_type": "stream",
     "text": [
      "White player win percentage by avg move_quality:\n",
      "  -50 < mq <= 0: 50.00% (1 wins / 2 games)\n",
      "\n",
      "Black player win percentage by avg move_quality:\n",
      "  -50 < mq <= 0: 50.00% (1 wins / 2 games)\n"
     ]
    }
   ],
   "source": [
    "import numpy as np\n",
    "from collections import defaultdict\n",
    "\n",
    "# Define move quality bins (low to high)\n",
    "bins = [-10000, -200, -150, -100, -50, 0, 10000]\n",
    "\n",
    "# Stats for bin ranges\n",
    "bin_stats_white = defaultdict(lambda: {\"wins\": 0, \"total\": 0})\n",
    "bin_stats_black = defaultdict(lambda: {\"wins\": 0, \"total\": 0})\n",
    "\n",
    "for game in data:\n",
    "    moves = game.get(\"moves\", [])\n",
    "    result = game.get(\"result\", \"*\")\n",
    "\n",
    "    # Separate white and black move_qualities\n",
    "    white_qualities = [m[\"move_quality\"] for m in moves if m[\"player\"] == \"white\" and m.get(\"move_quality\") is not None]\n",
    "    black_qualities = [m[\"move_quality\"] for m in moves if m[\"player\"] == \"black\" and m.get(\"move_quality\") is not None]\n",
    "\n",
    "    if not white_qualities or not black_qualities:\n",
    "        continue\n",
    "\n",
    "    avg_white = np.mean(white_qualities)\n",
    "    avg_black = np.mean(black_qualities)\n",
    "\n",
    "    # Bin index\n",
    "    w_bin = np.digitize(avg_white, bins) - 1\n",
    "    b_bin = np.digitize(avg_black, bins) - 1\n",
    "    w_range = f\"{bins[w_bin]} < mq <= {bins[w_bin + 1]}\"\n",
    "    b_range = f\"{bins[b_bin]} < mq <= {bins[b_bin + 1]}\"\n",
    "\n",
    "    # Update stats\n",
    "    bin_stats_white[w_range][\"total\"] += 1\n",
    "    bin_stats_black[b_range][\"total\"] += 1\n",
    "\n",
    "    if result == \"1-0\":\n",
    "        bin_stats_white[w_range][\"wins\"] += 1\n",
    "    elif result == \"0-1\":\n",
    "        bin_stats_black[b_range][\"wins\"] += 1\n",
    "\n",
    "# Print white results\n",
    "print(\"White player win percentage by avg move_quality:\")\n",
    "for rng, stats in sorted(bin_stats_white.items()):\n",
    "    pct = stats[\"wins\"] / stats[\"total\"] if stats[\"total\"] > 0 else 0\n",
    "    print(f\"  {rng}: {pct:.2%} ({stats['wins']} wins / {stats['total']} games)\")\n",
    "\n",
    "# Print black results\n",
    "print(\"\\nBlack player win percentage by avg move_quality:\")\n",
    "for rng, stats in sorted(bin_stats_black.items()):\n",
    "    pct = stats[\"wins\"] / stats[\"total\"] if stats[\"total\"] > 0 else 0\n",
    "    print(f\"  {rng}: {pct:.2%} ({stats['wins']} wins / {stats['total']} games)\")\n"
   ]
  },
  {
   "cell_type": "code",
   "execution_count": 35,
   "id": "62afaa1c",
   "metadata": {},
   "outputs": [
    {
     "name": "stdout",
     "output_type": "stream",
     "text": [
      "\n",
      "=== Threshold: White move_quality > -100 (averaged over N plies) ===\n",
      "White's first 1 moves:  Games with avg move_quality > -100: 361 and Win percentage: 47.92%\n",
      "White's first 2 moves:  Games with avg move_quality > -100: 360 and Win percentage: 47.50%\n",
      "White's first 3 moves:  Games with avg move_quality > -100: 356 and Win percentage: 47.47%\n",
      "White's first 4 moves:  Games with avg move_quality > -100: 353 and Win percentage: 47.59%\n",
      "White's first 5 moves:  Games with avg move_quality > -100: 354 and Win percentage: 47.46%\n",
      "\n",
      "=== Threshold: White move_quality > -75 (averaged over N plies) ===\n",
      "White's first 1 moves:  Games with avg move_quality > -75: 360 and Win percentage: 47.78%\n",
      "White's first 2 moves:  Games with avg move_quality > -75: 356 and Win percentage: 46.91%\n",
      "White's first 3 moves:  Games with avg move_quality > -75: 353 and Win percentage: 47.59%\n",
      "White's first 4 moves:  Games with avg move_quality > -75: 350 and Win percentage: 48.00%\n",
      "White's first 5 moves:  Games with avg move_quality > -75: 347 and Win percentage: 47.55%\n",
      "\n",
      "=== Threshold: White move_quality > -50 (averaged over N plies) ===\n",
      "White's first 1 moves:  Games with avg move_quality > -50: 350 and Win percentage: 48.00%\n",
      "White's first 2 moves:  Games with avg move_quality > -50: 335 and Win percentage: 47.76%\n",
      "White's first 3 moves:  Games with avg move_quality > -50: 335 and Win percentage: 46.57%\n",
      "White's first 4 moves:  Games with avg move_quality > -50: 326 and Win percentage: 47.85%\n",
      "White's first 5 moves:  Games with avg move_quality > -50: 318 and Win percentage: 47.17%\n",
      "\n",
      "=== Threshold: White move_quality > -25 (averaged over N plies) ===\n",
      "White's first 1 moves:  Games with avg move_quality > -25: 320 and Win percentage: 47.81%\n",
      "White's first 2 moves:  Games with avg move_quality > -25: 280 and Win percentage: 46.43%\n",
      "White's first 3 moves:  Games with avg move_quality > -25: 258 and Win percentage: 47.29%\n",
      "White's first 4 moves:  Games with avg move_quality > -25: 236 and Win percentage: 46.19%\n",
      "White's first 5 moves:  Games with avg move_quality > -25: 220 and Win percentage: 46.36%\n",
      "\n",
      "=== Threshold: White move_quality > -10 (averaged over N plies) ===\n",
      "White's first 1 moves:  Games with avg move_quality > -10: 268 and Win percentage: 47.01%\n",
      "White's first 2 moves:  Games with avg move_quality > -10: 210 and Win percentage: 47.14%\n",
      "White's first 3 moves:  Games with avg move_quality > -10: 147 and Win percentage: 46.94%\n",
      "White's first 4 moves:  Games with avg move_quality > -10: 116 and Win percentage: 43.97%\n",
      "White's first 5 moves:  Games with avg move_quality > -10: 110 and Win percentage: 40.91%\n"
     ]
    }
   ],
   "source": [
    "thresholds = [-100, -75, -50, -25, -10]\n",
    "max_ply_ranges = [2, 4, 6, 8, 10]  # First 1 to 5 White moves\n",
    "\n",
    "for threshold in thresholds:\n",
    "    print(f\"\\n=== Threshold: White move_quality > {threshold} (averaged over N plies) ===\")\n",
    "    \n",
    "    for max_ply in max_ply_ranges:\n",
    "        qualified_game_ids = []\n",
    "        wins = 0\n",
    "\n",
    "        for game in data:\n",
    "            white_moves = [\n",
    "                move[\"move_quality\"]\n",
    "                for move in game[\"moves\"]\n",
    "                if move[\"ply\"] < max_ply and move[\"player\"] == \"white\" and move[\"move_quality\"] is not None\n",
    "            ]\n",
    "\n",
    "            if not white_moves:\n",
    "                continue\n",
    "\n",
    "            avg_quality = sum(white_moves) / len(white_moves)\n",
    "            if avg_quality > threshold:\n",
    "                qualified_game_ids.append(game[\"game_nr\"])\n",
    "                if game[\"result\"] == \"1-0\":\n",
    "                    wins += 1\n",
    "\n",
    "        total_games = len(qualified_game_ids)\n",
    "        win_percentage = wins / total_games if total_games > 0 else 0\n",
    "\n",
    "        print(f\"White's first {max_ply // 2} moves:  Games with avg move_quality > {threshold}: {total_games} and Win percentage: {win_percentage:.2%}\")\n"
   ]
  },
  {
   "cell_type": "markdown",
   "id": "0c57c19d",
   "metadata": {},
   "source": [
    "Opening Sequence (moves)"
   ]
  },
  {
   "cell_type": "code",
   "execution_count": 24,
   "id": "616ed76c",
   "metadata": {},
   "outputs": [
    {
     "name": "stdout",
     "output_type": "stream",
     "text": [
      "Sequence: e4 e5 Nf3 Nc6 Bc4\n",
      "Count: 11\n",
      "\n",
      "Sequence: e4 d5 exd5 Qxd5 Nc3\n",
      "Count: 9\n",
      "\n",
      "Sequence: e4 e5 Nf3 Nc6 d4\n",
      "Count: 8\n",
      "\n",
      "Sequence: \n",
      "Count: 8\n",
      "\n",
      "Sequence: e4 e5 Nf3 Nf6 Bc4\n",
      "Count: 5\n",
      "\n",
      "Sequence: e4 e5 Nf3 d6 Bc4\n",
      "Count: 5\n",
      "\n",
      "Sequence: e4 e5 Nf3 Nc6 Bb5\n",
      "Count: 5\n",
      "\n"
     ]
    }
   ],
   "source": [
    "from collections import Counter\n",
    "\n",
    "sequence_counts = Counter()\n",
    "\n",
    "for game in data:\n",
    "    seq = game.get(\"human_opening_sequence\", \"\")\n",
    "    moves = seq.strip().split()\n",
    "    first_5_moves = moves[:5]  # first 5 half moves\n",
    "    seq_key = \" \".join(first_5_moves)\n",
    "    sequence_counts[seq_key] += 1\n",
    "\n",
    "# Print sequences and how many times they appeared\n",
    "for seq, count in sequence_counts.most_common():\n",
    "    if count > 4:\n",
    "        print(f\"Sequence: {seq}\\nCount: {count}\\n\")\n"
   ]
  },
  {
   "cell_type": "code",
   "execution_count": 26,
   "id": "2ff5a4d8",
   "metadata": {},
   "outputs": [],
   "source": [
    "import chess.pgn\n",
    "\n",
    "def get_elo_bucket(elo):\n",
    "    if elo < 1000:\n",
    "        return \"beginner\"\n",
    "    elif elo < 1400:\n",
    "        return \"intermediate\"\n",
    "    elif elo < 1800:\n",
    "        return \"club_player\"\n",
    "    elif elo < 2200:\n",
    "        return \"advanced\"\n",
    "    else:\n",
    "        return \"expert\"\n",
    "\n",
    "# Path to PGN file\n",
    "PGN_FILE = \"/workspaces/Chess_Stockfish/cleaned_one_line.pgn\"\n",
    "\n",
    "results = []\n",
    "\n",
    "with open(PGN_FILE, encoding=\"utf-8\") as pgn:\n",
    "    while True:\n",
    "        game = chess.pgn.read_game(pgn)\n",
    "        if game is None:\n",
    "            break\n",
    "\n",
    "        white_elo = int(game.headers.get(\"WhiteElo\", 0))\n",
    "        black_elo = int(game.headers.get(\"BlackElo\", 0))\n",
    "        opening = game.headers.get(\"Opening\", \"Unknown\")\n",
    "\n",
    "        white_level = get_elo_bucket(white_elo)\n",
    "        black_level = get_elo_bucket(black_elo)\n",
    "\n",
    "        results.append({\n",
    "            \"white_level\": white_level,\n",
    "            \"black_level\": black_level,\n",
    "            \"opening\": opening\n",
    "        })\n",
    "\n"
   ]
  },
  {
   "cell_type": "code",
   "execution_count": 30,
   "id": "103ca23b",
   "metadata": {},
   "outputs": [
    {
     "name": "stdout",
     "output_type": "stream",
     "text": [
      "Openings with a frequency of more than 5 only beginners:\n",
      "Philidor Defense\n",
      "Scandinavian Defense\n",
      "Four Knights Game: Italian Variation\n",
      "Queen's Pawn Game\n"
     ]
    }
   ],
   "source": [
    "from collections import Counter\n",
    "\n",
    "# Step 1: Filter beginner games\n",
    "beginner = [r for r in results if r[\"white_level\"] == \"beginner\" and r[\"black_level\"] == \"beginner\"]\n",
    "\n",
    "# Step 2: Count openings\n",
    "opening_counts = Counter(r[\"opening\"] for r in beginner)\n",
    "\n",
    "# Step 3: Print only those with >5 occurrences\n",
    "print(\"Openings with a frequency of more than 5 only beginners:\")\n",
    "for opening, count in opening_counts.items():\n",
    "    if count > 5:\n",
    "        print(opening)\n"
   ]
  },
  {
   "cell_type": "code",
   "execution_count": 31,
   "id": "59ad0fa0",
   "metadata": {},
   "outputs": [
    {
     "name": "stdout",
     "output_type": "stream",
     "text": [
      "Openings with a frequency of more than 17 only intermediate:\n",
      "Queen's Pawn Game: Accelerated London System\n",
      "Queen's Pawn Game\n",
      "French Defense: Knight Variation\n",
      "Van't Kruijs Opening\n",
      "Philidor Defense\n"
     ]
    }
   ],
   "source": [
    "# Step 1: Filter intermediate games\n",
    "intermediate = [r for r in results if r[\"white_level\"] == \"intermediate\" and r[\"black_level\"] == \"intermediate\"]\n",
    "\n",
    "# Step 2: Count openings\n",
    "opening_counts = Counter(r[\"opening\"] for r in intermediate)\n",
    "\n",
    "# Step 3: Print only those with >17 occurrences\n",
    "print(\"Openings with a frequency of more than 17 only intermediate:\")\n",
    "for opening, count in opening_counts.items():\n",
    "    if count > 17:\n",
    "        print(opening)"
   ]
  },
  {
   "cell_type": "code",
   "execution_count": 32,
   "id": "7c83899e",
   "metadata": {},
   "outputs": [
    {
     "name": "stdout",
     "output_type": "stream",
     "text": [
      "Openings with a frequency of more than 53 only club_player&advanced:\n",
      "Queen's Pawn Game\n",
      "Pirc Defense\n",
      "Owen Defense\n",
      "Caro-Kann Defense\n"
     ]
    }
   ],
   "source": [
    "# Step 1: Filter games with club_player&advanced players\n",
    "intermediate = [r for r in results if r[\"white_level\"] == \"club_player\" or r[\"white_level\"] == \"advanced\" and r[\"black_level\"] == \"club_player\" or r[\"black_level\"] == \"advanced\"]\n",
    "\n",
    "# Step 2: Count openings\n",
    "opening_counts = Counter(r[\"opening\"] for r in intermediate)\n",
    "\n",
    "# Step 3: Print only those with >53 occurrences\n",
    "print(\"Openings with a frequency of more than 53 only club_player&advanced:\")\n",
    "for opening, count in opening_counts.items():\n",
    "    if count > 53:\n",
    "        print(opening)"
   ]
  },
  {
   "cell_type": "code",
   "execution_count": 33,
   "id": "306752bc",
   "metadata": {},
   "outputs": [
    {
     "name": "stdout",
     "output_type": "stream",
     "text": [
      "Openings with a frequency of more than 5 only expert:\n",
      "Queen's Pawn Game: Modern Defense\n",
      "Indian Defense\n",
      "English Opening: Agincourt Defense\n"
     ]
    }
   ],
   "source": [
    "# Step 1: Filter expert games\n",
    "intermediate = [r for r in results if r[\"white_level\"] == \"expert\" and r[\"black_level\"] == \"expert\"]\n",
    "\n",
    "# Step 2: Count openings\n",
    "opening_counts = Counter(r[\"opening\"] for r in intermediate)\n",
    "\n",
    "# Step 3: Print only those with >5 occurrences\n",
    "print(\"Openings with a frequency of more than 5 only expert:\")\n",
    "for opening, count in opening_counts.items():\n",
    "    if count > 5:\n",
    "        print(opening)"
   ]
  }
 ],
 "metadata": {
  "kernelspec": {
   "display_name": "Python 3",
   "language": "python",
   "name": "python3"
  },
  "language_info": {
   "codemirror_mode": {
    "name": "ipython",
    "version": 3
   },
   "file_extension": ".py",
   "mimetype": "text/x-python",
   "name": "python",
   "nbconvert_exporter": "python",
   "pygments_lexer": "ipython3",
   "version": "3.12.1"
  }
 },
 "nbformat": 4,
 "nbformat_minor": 5
}
